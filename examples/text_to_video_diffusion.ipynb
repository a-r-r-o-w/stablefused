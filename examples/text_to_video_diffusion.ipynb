{
 "cells": [
  {
   "attachments": {},
   "cell_type": "markdown",
   "metadata": {},
   "source": [
    "# Text To Video Diffusion\n",
    "\n",
    "In this notebook, we take a look at Text to Video Diffusion."
   ]
  },
  {
   "attachments": {},
   "cell_type": "markdown",
   "metadata": {},
   "source": [
    "### Install and Import required packages"
   ]
  },
  {
   "cell_type": "code",
   "execution_count": null,
   "metadata": {},
   "outputs": [],
   "source": [
    "%pip install stablefused ipython"
   ]
  },
  {
   "cell_type": "code",
   "execution_count": null,
   "metadata": {},
   "outputs": [],
   "source": [
    "import numpy as np\n",
    "import torch\n",
    "\n",
    "from IPython.display import display, Video\n",
    "from diffusers.schedulers import DPMSolverMultistepScheduler\n",
    "\n",
    "from stablefused import TextToVideoDiffusion\n",
    "from stablefused.utils import pil_to_video, image_grid"
   ]
  },
  {
   "attachments": {},
   "cell_type": "markdown",
   "metadata": {},
   "source": [
    "### Initialize model and parameters\n",
    "\n",
    "We use Cerspense's Zeroscope v2 to initialize our Text To Video Diffusion model. Play around with different prompts and see what you get! You can comment out the seed part if you want to generate new random images each time you run the notebook.\n",
    "\n",
    "We enable slicing and tiling of the VAE to reduce memory required for decoding process from latent space to image space."
   ]
  },
  {
   "cell_type": "code",
   "execution_count": null,
   "metadata": {},
   "outputs": [],
   "source": [
    "# model_id = \"damo-vilab/text-to-video-ms-1.7b\"\n",
    "model_id = \"cerspense/zeroscope_v2_576w\"\n",
    "\n",
    "# model = TextToVideoDiffusion(model_id = model_id, torch_dtype = torch.float16, variant = \"fp16\")\n",
    "model = TextToVideoDiffusion(model_id=model_id, torch_dtype=torch.float16)\n",
    "\n",
    "model.scheduler = DPMSolverMultistepScheduler.from_config(model.scheduler.config)\n",
    "model.enable_slicing()\n",
    "model.enable_tiling()"
   ]
  },
  {
   "cell_type": "code",
   "execution_count": null,
   "metadata": {},
   "outputs": [],
   "source": [
    "prompt = \"An astronaut floating in space, interstellar, black background with stars, photorealistic, high quality, 8k\"\n",
    "negative_prompt = \"multiple people, cartoon, unrealistic, blur, boring background, deformed, disfigured, low resolution, unattractive, nsfw\"\n",
    "num_inference_steps = 15\n",
    "video_frames = 24\n",
    "seed = 420\n",
    "\n",
    "torch.manual_seed(seed)\n",
    "np.random.seed(seed)"
   ]
  },
  {
   "cell_type": "code",
   "execution_count": null,
   "metadata": {},
   "outputs": [],
   "source": [
    "frames = model(\n",
    "    prompt=prompt,\n",
    "    negative_prompt=negative_prompt,\n",
    "    video_height=320,\n",
    "    video_width=576,\n",
    "    video_frames=video_frames,\n",
    "    num_inference_steps=num_inference_steps,\n",
    "    guidance_scale=8.0,\n",
    ")"
   ]
  },
  {
   "cell_type": "code",
   "execution_count": null,
   "metadata": {},
   "outputs": [],
   "source": [
    "filename = \"interstellar-astronaut.mp4\"\n",
    "pil_to_video(frames[0], filename, fps=8)"
   ]
  },
  {
   "cell_type": "code",
   "execution_count": null,
   "metadata": {},
   "outputs": [],
   "source": [
    "display(Video(filename, embed=True))"
   ]
  },
  {
   "cell_type": "code",
   "execution_count": null,
   "metadata": {},
   "outputs": [],
   "source": [
    "prompt = \"A mighty pirate ship sailing through the sea, unpleasant, thundering roar, dark night, starry night, high quality, photorealistic, 8k\"\n",
    "seed = 42\n",
    "\n",
    "torch.manual_seed(seed)\n",
    "np.random.seed(seed)"
   ]
  },
  {
   "cell_type": "code",
   "execution_count": null,
   "metadata": {},
   "outputs": [],
   "source": [
    "frames = model(\n",
    "    prompt=[prompt] * 2,\n",
    "    video_height=320,\n",
    "    video_width=576,\n",
    "    video_frames=video_frames,\n",
    "    num_inference_steps=num_inference_steps,\n",
    "    guidance_scale=12.0,\n",
    ")"
   ]
  },
  {
   "cell_type": "code",
   "execution_count": null,
   "metadata": {},
   "outputs": [],
   "source": [
    "# Tile the frames of the two videos one above the other.\n",
    "frames_concatenated = []\n",
    "for images in zip(*frames):\n",
    "    frames_concatenated.append(image_grid(images, rows=2, cols=1))"
   ]
  },
  {
   "cell_type": "code",
   "execution_count": null,
   "metadata": {},
   "outputs": [],
   "source": [
    "filename = \"mighty-ship.mp4\"\n",
    "pil_to_video(frames_concatenated, filename, fps=8)"
   ]
  },
  {
   "cell_type": "code",
   "execution_count": null,
   "metadata": {},
   "outputs": [],
   "source": [
    "display(Video(filename, embed=True))"
   ]
  }
 ],
 "metadata": {
  "language_info": {
   "name": "python"
  }
 },
 "nbformat": 4,
 "nbformat_minor": 0
}
