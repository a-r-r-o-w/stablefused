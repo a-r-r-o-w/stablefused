{
 "cells": [
  {
   "attachments": {},
   "cell_type": "markdown",
   "metadata": {},
   "source": [
    "# Effect of Guidance Scale\n",
    "\n",
    "In this notebook, we take a look at how the guidance scale affects the image quality of the model.\n",
    "\n",
    "Guidance scale is a value inspired by the paper [Classifier-Free Diffusion Guidance](https://arxiv.org/abs/2207.12598). The explanation of how CFG works is out-of-scope here, but there are many online sources where you can read about it (linked below).\n",
    "\n",
    "- [Guidance: a cheat for diffusion models](https://sander.ai/2022/05/26/guidance.html)\n",
    "- [Diffusion Models, DDPMs, DDIMs and CFG](https://betterprogramming.pub/diffusion-models-ddpms-ddims-and-classifier-free-guidance-e07b297b2869)\n",
    "- [Classifier-Free Guidance Scale](https://mccormickml.com/2023/02/20/classifier-free-guidance-scale/)\n",
    "\n",
    "In short, guidance scale is a value that controls the amount of \"guidance\" used in the diffusion process. That is, the higher the value, the more closely the diffusion process follows the prompt. A lower guidance scale allows the model to be more creative, and work slightly different from the exact prompt. After a certain threshold maximum value, the results start to get worse, blurry and noisy.\n",
    "\n",
    "Guidance scale values, in practice, are usually in the range 6-15, and the default value of 7.5 is used in many inference implementations. However, manipulating it can lead to some very interesting results. It also only makes sense when it is set to 1.0 or higher, which is why many implementations use a minimum value of 1.0.\n",
    "\n",
    "But... what happens when we set guidance scale to 0? Or negative? Let's find out!\n",
    "\n",
    "When you use a negative value for the guidance scale, the model will try to generate images that are the opposite of what you specify in the prompt. For example, if you prompt the model to generate an image of an astronaut, and you use a negative guidance scale, the model will try to generate an image of everything but an astronaut. This can be a fun way to generate creative and unexpected images (sometimes NSFW or absolute horrendous stuff, if you are not using a safety-checker model - which is the case with StableFused)."
   ]
  },
  {
   "attachments": {},
   "cell_type": "markdown",
   "metadata": {},
   "source": [
    "### Install and Import required packages"
   ]
  },
  {
   "cell_type": "code",
   "execution_count": null,
   "metadata": {},
   "outputs": [],
   "source": [
    "!pip install stablefused ipython"
   ]
  },
  {
   "cell_type": "code",
   "execution_count": null,
   "metadata": {},
   "outputs": [],
   "source": [
    "import numpy as np\n",
    "import torch\n",
    "\n",
    "from IPython.display import Video, display\n",
    "from PIL import Image, ImageDraw, ImageFont\n",
    "from stablefused import TextToImageDiffusion\n",
    "from typing import List"
   ]
  },
  {
   "attachments": {},
   "cell_type": "markdown",
   "metadata": {},
   "source": [
    "### Initialize model and parameters\n",
    "\n",
    "We use RunwayML's Stable Diffusion 1.5 checkpoint."
   ]
  },
  {
   "cell_type": "code",
   "execution_count": null,
   "metadata": {},
   "outputs": [],
   "source": [
    "model_id = \"runwayml/stable-diffusion-v1-5\"\n",
    "model = TextToImageDiffusion(model_id=model_id, torch_dtype=torch.float16)"
   ]
  },
  {
   "attachments": {},
   "cell_type": "markdown",
   "metadata": {
    "id": "q0-_CmuxpTw8"
   },
   "source": [
    "##### Prompt Credits\n",
    "\n",
    "The prompts used in this notebook have been taken from different sources. The main inspirations are:\n",
    "\n",
    "- https://levelup.gitconnected.com/20-stable-diffusion-prompts-to-create-stunning-characters-a63017dc4b74\n",
    "- https://mpost.io/best-100-stable-diffusion-prompts-the-most-beautiful-ai-text-to-image-prompts/"
   ]
  },
  {
   "cell_type": "code",
   "execution_count": null,
   "metadata": {},
   "outputs": [],
   "source": [
    "prompt = [\n",
    "    \"Artistic image, very detailed cute cat, cinematic lighting effect, cute, charming, fantasy art, digital painting, photorealistic\",\n",
    "    \"A lion in galaxies, spirals, nebulae, stars, smoke, iridescent, intricate detail, octane render, 8k\",\n",
    "    \"A grand city in the year 2100, atmospheric, hyper realistic, 8k, epic composition, cinematic, octane render\",\n",
    "    \"Starry Night, painting style of Vincent van Gogh, Oil paint on canvas, Landscape with a starry night sky, dreamy, peaceful\",\n",
    "]\n",
    "negative_prompt = \"cartoon, unrealistic, blur, boring background, deformed, disfigured, low resolution, unattractive\"\n",
    "num_inference_steps = 20\n",
    "seed = 2023"
   ]
  },
  {
   "attachments": {},
   "cell_type": "markdown",
   "metadata": {},
   "source": [
    "`image_grid_with_labels` is a helper function that takes a list of images and a list of labels and displays them in a grid."
   ]
  },
  {
   "cell_type": "code",
   "execution_count": null,
   "metadata": {},
   "outputs": [],
   "source": [
    "def image_grid_with_labels(\n",
    "    images: List[Image.Image], labels: List[str], rows: int, cols: int\n",
    ") -> Image.Image:\n",
    "    \"\"\"Create a grid of images with labels.\"\"\"\n",
    "    if len(images) > rows * cols:\n",
    "        raise ValueError(\n",
    "            f\"Number of images ({len(images)}) exceeds grid size ({rows}x{cols}).\"\n",
    "        )\n",
    "    if len(labels) != rows:\n",
    "        raise ValueError(\n",
    "            f\"Number of labels ({len(labels)}) does not match the number of rows ({rows}).\"\n",
    "        )\n",
    "\n",
    "    w, h = images[0].size\n",
    "    label_width = 100\n",
    "\n",
    "    grid = Image.new(\"RGB\", size=(cols * w + label_width, rows * h))\n",
    "    draw = ImageDraw.Draw(grid)\n",
    "\n",
    "    font_size = 32\n",
    "    font = ImageFont.truetype(\n",
    "        \"/usr/local/lib/python3.10/dist-packages/matplotlib/mpl-data/fonts/ttf/DejaVuSans.ttf\",\n",
    "        size=font_size,\n",
    "    )\n",
    "\n",
    "    for i, label in enumerate(labels):\n",
    "        x_label = label_width // 4\n",
    "        y_label = i * h + h // 2\n",
    "        draw.text((x_label, y_label), label, fill=(255, 255, 255), font=font)\n",
    "\n",
    "    for i, image in enumerate(images):\n",
    "        x_img = (i % cols) * w + label_width\n",
    "        y_img = (i // cols) * h\n",
    "        grid.paste(image, box=(x_img, y_img))\n",
    "\n",
    "    return grid"
   ]
  },
  {
   "attachments": {},
   "cell_type": "markdown",
   "metadata": {},
   "source": [
    "### Inference with different guidance scales\n",
    "\n",
    "We start with a negative guidance scale and increment it by 1.5 until a certain maximum value. The results obtained are very interesting!\n",
    "\n",
    "The below code demonstrates the effect of guidance scale on different prompts."
   ]
  },
  {
   "cell_type": "code",
   "execution_count": null,
   "metadata": {},
   "outputs": [],
   "source": [
    "epsilon = 1e-5\n",
    "guidance_scale = -1.5\n",
    "increment = 1.5\n",
    "max_guidance_scale = 15 + epsilon\n",
    "num_iterations = 0\n",
    "results = []\n",
    "guidance_scale_labels = []\n",
    "\n",
    "while guidance_scale <= max_guidance_scale:\n",
    "    torch.manual_seed(seed)\n",
    "    np.random.seed(seed)\n",
    "\n",
    "    print(f\"Generating images with guidance_scale={guidance_scale:.2f} and seed={seed}\")\n",
    "    results.append(\n",
    "        model(\n",
    "            prompt=prompt,\n",
    "            negative_prompt=[negative_prompt] * len(prompt),\n",
    "            num_inference_steps=num_inference_steps,\n",
    "            guidance_scale=guidance_scale,\n",
    "        )\n",
    "    )\n",
    "\n",
    "    guidance_scale_labels.append(str(round(guidance_scale, 2)))\n",
    "    guidance_scale += increment\n",
    "    num_iterations += 1"
   ]
  },
  {
   "cell_type": "code",
   "execution_count": null,
   "metadata": {},
   "outputs": [],
   "source": [
    "flattened_results = [image for result in results for image in result]"
   ]
  },
  {
   "cell_type": "code",
   "execution_count": null,
   "metadata": {},
   "outputs": [],
   "source": [
    "image_grid_with_labels(\n",
    "    flattened_results,\n",
    "    labels=guidance_scale_labels,\n",
    "    rows=num_iterations,\n",
    "    cols=len(prompt),\n",
    ").save(\"effect-of-guidance-scale-on-different-prompts.png\")"
   ]
  },
  {
   "attachments": {},
   "cell_type": "markdown",
   "metadata": {},
   "source": [
    "\n",
    "The below code demonstrates the effect of guidance scale on the same prompt over multiple inference steps. "
   ]
  },
  {
   "cell_type": "code",
   "execution_count": null,
   "metadata": {},
   "outputs": [],
   "source": [
    "steps = [3, 6, 12, 20, 25]\n",
    "prompt = \"Photorealistic illustration of a mystical alien creature, magnificent, strong, atomic, tyrannic, predator, unforgiving, full-body image\"\n",
    "epsilon = 1e-5\n",
    "guidance_scale = -1.5\n",
    "increment = 1.5\n",
    "max_guidance_scale = 15 + epsilon\n",
    "num_iterations = 0\n",
    "results = []\n",
    "guidance_scale_labels = []\n",
    "seed = 42\n",
    "\n",
    "while guidance_scale <= max_guidance_scale:\n",
    "    step_results = []\n",
    "\n",
    "    for step in steps:\n",
    "        torch.manual_seed(seed)\n",
    "        np.random.seed(seed)\n",
    "\n",
    "        print(\n",
    "            f\"Generating images with guidance_scale={guidance_scale:.2f}, num_inference_steps={step} and seed={seed}\"\n",
    "        )\n",
    "        step_results.append(\n",
    "            model(\n",
    "                prompt=prompt,\n",
    "                negative_prompt=negative_prompt,\n",
    "                num_inference_steps=step,\n",
    "                guidance_scale=guidance_scale,\n",
    "            )\n",
    "        )\n",
    "\n",
    "    guidance_scale_labels.append(str(round(guidance_scale, 2)))\n",
    "    guidance_scale += increment\n",
    "    num_iterations += 1\n",
    "\n",
    "    results.append(step_results)"
   ]
  },
  {
   "cell_type": "code",
   "execution_count": null,
   "metadata": {},
   "outputs": [],
   "source": [
    "flattened_results = [\n",
    "    image for result in results for images in result for image in images\n",
    "]"
   ]
  },
  {
   "cell_type": "code",
   "execution_count": null,
   "metadata": {},
   "outputs": [],
   "source": [
    "image_grid_with_labels(\n",
    "    flattened_results, labels=guidance_scale_labels, rows=len(results), cols=len(steps)\n",
    ").save(\"effect-of-guidance-scale-vs-steps.png\")"
   ]
  }
 ],
 "metadata": {
  "language_info": {
   "name": "python"
  }
 },
 "nbformat": 4,
 "nbformat_minor": 0
}
