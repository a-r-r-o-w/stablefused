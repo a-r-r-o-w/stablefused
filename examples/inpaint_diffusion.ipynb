{
  "cells": [
    {
      "cell_type": "markdown",
      "metadata": {
        "id": "n17DUp1d7H_g"
      },
      "source": [
        "# Inpainting with Diffusion\n",
        "\n",
        "Image inpainting is the task of reconstructing missing parts of an image with the help of context provided by the remaining parts of the image, and a prompt. In the real world, inpainting is commonly used in features like object removal and noise/damage removal.\n",
        "\n",
        "Inpainting is the foundational tool used in creating the \"infinite zoom\" animation.\n",
        "\n",
        "In this implementation, we make use of RunwayML's model for stable diffusion inpainting."
      ]
    },
    {
      "cell_type": "markdown",
      "metadata": {
        "id": "0DlkofqoEYiN"
      },
      "source": [
        "Installing the stablefused library via PIP."
      ]
    },
    {
      "cell_type": "code",
      "execution_count": null,
      "metadata": {
        "colab": {
          "base_uri": "https://localhost:8080/"
        },
        "id": "8zWRxDsVVwOm",
        "outputId": "5d029bbf-ce36-486f-fa4a-a42eb914248c"
      },
      "outputs": [],
      "source": [
        "!pip install stablefused ipython"
      ]
    },
    {
      "cell_type": "markdown",
      "metadata": {
        "id": "J5WvoEWNEd6h"
      },
      "source": [
        "Importing required libraries."
      ]
    },
    {
      "cell_type": "code",
      "execution_count": null,
      "metadata": {
        "id": "dJMUI6FnWK-P"
      },
      "outputs": [],
      "source": [
        "import numpy as np\n",
        "import torch\n",
        "import math\n",
        "from IPython.display import Video, display\n",
        "from PIL import Image\n",
        "from stablefused import InpaintDiffusion\n",
        "from stablefused.utils import image_grid, pil_to_video"
      ]
    },
    {
      "cell_type": "markdown",
      "metadata": {
        "id": "2p1XcmlqEg5A"
      },
      "source": [
        "Initialising the model."
      ]
    },
    {
      "cell_type": "code",
      "execution_count": null,
      "metadata": {
        "colab": {
          "base_uri": "https://localhost:8080/",
          "height": 118,
          "referenced_widgets": [
            "f8055657b3a2439ba5100f0976194388",
            "973e1fe523ff476ba8bcdbc465ccc594",
            "7d67dc3e8b6e49989bc524469c5e0c71",
            "a3308597db7c43698f11b2e03e403379",
            "7cfe7e26c0614e29b3d08bffbb5e2dc6",
            "693de1714b294320b19312e696f2476f",
            "eac36174374d425e9fa563c6badd6d2b",
            "590d547955ee40f3af16029b9d845a96",
            "61b7af8be8a84bc9a237e1957185a120",
            "0fc26ce9be554cb3ba9e6d9cbc6bfcae",
            "43cf60dd65194d4e95b32f555578acc1"
          ]
        },
        "id": "ufIJ7pP7WLEN",
        "outputId": "986361bf-3233-4dc7-bed6-aeecd3f05866"
      },
      "outputs": [],
      "source": [
        "model_id = \"runwayml/stable-diffusion-inpainting\"\n",
        "model = InpaintDiffusion(model_id=model_id, torch_dtype=torch.float16)\n",
        "model.enable_attention_slicing()\n",
        "model.enable_slicing()\n",
        "model.enable_tiling()"
      ]
    },
    {
      "cell_type": "markdown",
      "metadata": {
        "id": "M1InWcOBEk3b"
      },
      "source": [
        "Defining our prompt(s), negative prompt(s), number of output images and seed.\n",
        "\n",
        "The prompt tells the model what to replace the missing portions of the image with, and the negative prompt tells the model what _not_ to replace the missing portions with.\n",
        "\n",
        "While the same seed is used, a constant combination of prompt, negative prompt, image and mask will result in the same output every time."
      ]
    },
    {
      "cell_type": "code",
      "execution_count": null,
      "metadata": {
        "id": "vIb4z6CoWLGZ"
      },
      "outputs": [],
      "source": [
        "prompt = [\n",
        "    \"Digital illustration of a mythical creature, high quality, realistic, 8k\",\n",
        "    \"Digital illustration of mythical creatures, high quality, realistic, 8k\",\n",
        "    \"Digital illustration of a dragon, high quality, realistic, 8k\",\n",
        "    \"Digital illustration of a ferocious lion, high quality, realistic, 8k\",\n",
        "]\n",
        "negative_prompt = \"cartoon, unrealistic, blur, boring background, deformed, disfigured, low resolution, unattractive\"\n",
        "num_images = len(prompt)\n",
        "seed = 42\n",
        "\n",
        "torch.manual_seed(seed)\n",
        "np.random.seed(seed)"
      ]
    },
    {
      "cell_type": "markdown",
      "metadata": {
        "id": "Ivso9Mr3FAYd"
      },
      "source": [
        "Loading the original image and the mask into the notebook. Where the mask is black, information in the image is retained, but where the mask is white, diffusion is used to inpaint the image."
      ]
    },
    {
      "cell_type": "code",
      "execution_count": null,
      "metadata": {
        "colab": {
          "base_uri": "https://localhost:8080/",
          "height": 546
        },
        "id": "-CgcnHxoWLJr",
        "outputId": "a2294c82-b166-4ac7-8350-03524608208c"
      },
      "outputs": [],
      "source": [
        "image_filename = \"mechanical-robot-base-image.png\"\n",
        "mask_filename = \"mask.png\"\n",
        "\n",
        "original_image = Image.open(image_filename)\n",
        "mask = Image.open(mask_filename)\n",
        "\n",
        "start_image = np.array(original_image.convert(\"RGB\"))\n",
        "mask_image = np.array(mask.convert(\"L\"))\n",
        "\n",
        "start_image = np.expand_dims(start_image, axis=0).repeat(num_images, axis=0)\n",
        "mask_image = np.expand_dims(mask_image, axis=0).repeat(num_images, axis=0)\n",
        "mask_image = mask_image.reshape(*mask_image.shape, 1)\n",
        "\n",
        "print(\"Original and mask image:\")\n",
        "image_grid([original_image, mask], rows=1, cols=2)"
      ]
    },
    {
      "cell_type": "markdown",
      "metadata": {
        "id": "Y2k00YO0FZ30"
      },
      "source": [
        "Running the model on the given image, mask and prompts, and saving the resulting image(s) into `images`."
      ]
    },
    {
      "cell_type": "code",
      "execution_count": null,
      "metadata": {
        "colab": {
          "base_uri": "https://localhost:8080/",
          "height": 49,
          "referenced_widgets": [
            "e1d5044e99284a11a0a4fa7ad78792ac",
            "d04f93514eff42fb997fb41ae091f79f",
            "a7193385ca7b44b6a8891169cb050838",
            "4a1ce733ca8f48ffa96ece66ebbc1b03",
            "233d70cbbfb1438284b0426576b855bd",
            "5d73344c4df24b37a5cb018a009b1f41",
            "5fe267f5df954bf9a8dbddc59b759338",
            "498dea9b58c044f3bbc4f5226fc99fec",
            "240c8d68dbea4be88a6b0202f3b7207d",
            "20c7cc08a6834f45bb6c3d5abc20804e",
            "f9d6e27abd4043ffaba17ae33412de8a"
          ]
        },
        "id": "_BrjYx9mWLM-",
        "outputId": "be9ecb85-01b2-4a73-9053-9b8f427515ec"
      },
      "outputs": [],
      "source": [
        "images = model(\n",
        "    prompt=prompt,\n",
        "    negative_prompt=[negative_prompt] * num_images,\n",
        "    image=start_image,\n",
        "    mask=mask_image,\n",
        "    num_inference_steps=20,\n",
        "    start_step=5,\n",
        "    image_height=512,\n",
        "    image_width=512,\n",
        "    guidance_scale=10.0,\n",
        ")"
      ]
    },
    {
      "cell_type": "markdown",
      "metadata": {
        "id": "0n6Pl--0Fi-e"
      },
      "source": [
        "Displaying the images in a grid:"
      ]
    },
    {
      "cell_type": "code",
      "execution_count": null,
      "metadata": {
        "colab": {
          "base_uri": "https://localhost:8080/",
          "height": 1000
        },
        "id": "FaxYmmg8WLTU",
        "outputId": "5662ff8a-d5e5-46c8-8794-b6a740c164ad"
      },
      "outputs": [],
      "source": [
        "for i, p in enumerate(prompt):\n",
        "    print(f\"{i+1}.\\t{p}\")\n",
        "\n",
        "image_grid(images, rows=2, cols=math.ceil(num_images / 2))"
      ]
    }
  ],
  "metadata": {
    "accelerator": "GPU",
    "colab": {
      "gpuType": "T4",
      "provenance": []
    },
    "kernelspec": {
      "display_name": "Python 3",
      "name": "python3"
    },
    "language_info": {
      "name": "python"
    },
    "widgets": {
      "application/vnd.jupyter.widget-state+json": {
        "0fc26ce9be554cb3ba9e6d9cbc6bfcae": {
          "model_module": "@jupyter-widgets/base",
          "model_module_version": "1.2.0",
          "model_name": "LayoutModel",
          "state": {
            "_model_module": "@jupyter-widgets/base",
            "_model_module_version": "1.2.0",
            "_model_name": "LayoutModel",
            "_view_count": null,
            "_view_module": "@jupyter-widgets/base",
            "_view_module_version": "1.2.0",
            "_view_name": "LayoutView",
            "align_content": null,
            "align_items": null,
            "align_self": null,
            "border": null,
            "bottom": null,
            "display": null,
            "flex": null,
            "flex_flow": null,
            "grid_area": null,
            "grid_auto_columns": null,
            "grid_auto_flow": null,
            "grid_auto_rows": null,
            "grid_column": null,
            "grid_gap": null,
            "grid_row": null,
            "grid_template_areas": null,
            "grid_template_columns": null,
            "grid_template_rows": null,
            "height": null,
            "justify_content": null,
            "justify_items": null,
            "left": null,
            "margin": null,
            "max_height": null,
            "max_width": null,
            "min_height": null,
            "min_width": null,
            "object_fit": null,
            "object_position": null,
            "order": null,
            "overflow": null,
            "overflow_x": null,
            "overflow_y": null,
            "padding": null,
            "right": null,
            "top": null,
            "visibility": null,
            "width": null
          }
        },
        "20c7cc08a6834f45bb6c3d5abc20804e": {
          "model_module": "@jupyter-widgets/base",
          "model_module_version": "1.2.0",
          "model_name": "LayoutModel",
          "state": {
            "_model_module": "@jupyter-widgets/base",
            "_model_module_version": "1.2.0",
            "_model_name": "LayoutModel",
            "_view_count": null,
            "_view_module": "@jupyter-widgets/base",
            "_view_module_version": "1.2.0",
            "_view_name": "LayoutView",
            "align_content": null,
            "align_items": null,
            "align_self": null,
            "border": null,
            "bottom": null,
            "display": null,
            "flex": null,
            "flex_flow": null,
            "grid_area": null,
            "grid_auto_columns": null,
            "grid_auto_flow": null,
            "grid_auto_rows": null,
            "grid_column": null,
            "grid_gap": null,
            "grid_row": null,
            "grid_template_areas": null,
            "grid_template_columns": null,
            "grid_template_rows": null,
            "height": null,
            "justify_content": null,
            "justify_items": null,
            "left": null,
            "margin": null,
            "max_height": null,
            "max_width": null,
            "min_height": null,
            "min_width": null,
            "object_fit": null,
            "object_position": null,
            "order": null,
            "overflow": null,
            "overflow_x": null,
            "overflow_y": null,
            "padding": null,
            "right": null,
            "top": null,
            "visibility": null,
            "width": null
          }
        },
        "233d70cbbfb1438284b0426576b855bd": {
          "model_module": "@jupyter-widgets/base",
          "model_module_version": "1.2.0",
          "model_name": "LayoutModel",
          "state": {
            "_model_module": "@jupyter-widgets/base",
            "_model_module_version": "1.2.0",
            "_model_name": "LayoutModel",
            "_view_count": null,
            "_view_module": "@jupyter-widgets/base",
            "_view_module_version": "1.2.0",
            "_view_name": "LayoutView",
            "align_content": null,
            "align_items": null,
            "align_self": null,
            "border": null,
            "bottom": null,
            "display": null,
            "flex": null,
            "flex_flow": null,
            "grid_area": null,
            "grid_auto_columns": null,
            "grid_auto_flow": null,
            "grid_auto_rows": null,
            "grid_column": null,
            "grid_gap": null,
            "grid_row": null,
            "grid_template_areas": null,
            "grid_template_columns": null,
            "grid_template_rows": null,
            "height": null,
            "justify_content": null,
            "justify_items": null,
            "left": null,
            "margin": null,
            "max_height": null,
            "max_width": null,
            "min_height": null,
            "min_width": null,
            "object_fit": null,
            "object_position": null,
            "order": null,
            "overflow": null,
            "overflow_x": null,
            "overflow_y": null,
            "padding": null,
            "right": null,
            "top": null,
            "visibility": null,
            "width": null
          }
        },
        "240c8d68dbea4be88a6b0202f3b7207d": {
          "model_module": "@jupyter-widgets/controls",
          "model_module_version": "1.5.0",
          "model_name": "ProgressStyleModel",
          "state": {
            "_model_module": "@jupyter-widgets/controls",
            "_model_module_version": "1.5.0",
            "_model_name": "ProgressStyleModel",
            "_view_count": null,
            "_view_module": "@jupyter-widgets/base",
            "_view_module_version": "1.2.0",
            "_view_name": "StyleView",
            "bar_color": null,
            "description_width": ""
          }
        },
        "43cf60dd65194d4e95b32f555578acc1": {
          "model_module": "@jupyter-widgets/controls",
          "model_module_version": "1.5.0",
          "model_name": "DescriptionStyleModel",
          "state": {
            "_model_module": "@jupyter-widgets/controls",
            "_model_module_version": "1.5.0",
            "_model_name": "DescriptionStyleModel",
            "_view_count": null,
            "_view_module": "@jupyter-widgets/base",
            "_view_module_version": "1.2.0",
            "_view_name": "StyleView",
            "description_width": ""
          }
        },
        "498dea9b58c044f3bbc4f5226fc99fec": {
          "model_module": "@jupyter-widgets/base",
          "model_module_version": "1.2.0",
          "model_name": "LayoutModel",
          "state": {
            "_model_module": "@jupyter-widgets/base",
            "_model_module_version": "1.2.0",
            "_model_name": "LayoutModel",
            "_view_count": null,
            "_view_module": "@jupyter-widgets/base",
            "_view_module_version": "1.2.0",
            "_view_name": "LayoutView",
            "align_content": null,
            "align_items": null,
            "align_self": null,
            "border": null,
            "bottom": null,
            "display": null,
            "flex": null,
            "flex_flow": null,
            "grid_area": null,
            "grid_auto_columns": null,
            "grid_auto_flow": null,
            "grid_auto_rows": null,
            "grid_column": null,
            "grid_gap": null,
            "grid_row": null,
            "grid_template_areas": null,
            "grid_template_columns": null,
            "grid_template_rows": null,
            "height": null,
            "justify_content": null,
            "justify_items": null,
            "left": null,
            "margin": null,
            "max_height": null,
            "max_width": null,
            "min_height": null,
            "min_width": null,
            "object_fit": null,
            "object_position": null,
            "order": null,
            "overflow": null,
            "overflow_x": null,
            "overflow_y": null,
            "padding": null,
            "right": null,
            "top": null,
            "visibility": null,
            "width": null
          }
        },
        "4a1ce733ca8f48ffa96ece66ebbc1b03": {
          "model_module": "@jupyter-widgets/controls",
          "model_module_version": "1.5.0",
          "model_name": "HTMLModel",
          "state": {
            "_dom_classes": [],
            "_model_module": "@jupyter-widgets/controls",
            "_model_module_version": "1.5.0",
            "_model_name": "HTMLModel",
            "_view_count": null,
            "_view_module": "@jupyter-widgets/controls",
            "_view_module_version": "1.5.0",
            "_view_name": "HTMLView",
            "description": "",
            "description_tooltip": null,
            "layout": "IPY_MODEL_20c7cc08a6834f45bb6c3d5abc20804e",
            "placeholder": "​",
            "style": "IPY_MODEL_f9d6e27abd4043ffaba17ae33412de8a",
            "value": " 15/15 [00:09&lt;00:00,  1.47it/s]"
          }
        },
        "590d547955ee40f3af16029b9d845a96": {
          "model_module": "@jupyter-widgets/base",
          "model_module_version": "1.2.0",
          "model_name": "LayoutModel",
          "state": {
            "_model_module": "@jupyter-widgets/base",
            "_model_module_version": "1.2.0",
            "_model_name": "LayoutModel",
            "_view_count": null,
            "_view_module": "@jupyter-widgets/base",
            "_view_module_version": "1.2.0",
            "_view_name": "LayoutView",
            "align_content": null,
            "align_items": null,
            "align_self": null,
            "border": null,
            "bottom": null,
            "display": null,
            "flex": null,
            "flex_flow": null,
            "grid_area": null,
            "grid_auto_columns": null,
            "grid_auto_flow": null,
            "grid_auto_rows": null,
            "grid_column": null,
            "grid_gap": null,
            "grid_row": null,
            "grid_template_areas": null,
            "grid_template_columns": null,
            "grid_template_rows": null,
            "height": null,
            "justify_content": null,
            "justify_items": null,
            "left": null,
            "margin": null,
            "max_height": null,
            "max_width": null,
            "min_height": null,
            "min_width": null,
            "object_fit": null,
            "object_position": null,
            "order": null,
            "overflow": null,
            "overflow_x": null,
            "overflow_y": null,
            "padding": null,
            "right": null,
            "top": null,
            "visibility": null,
            "width": null
          }
        },
        "5d73344c4df24b37a5cb018a009b1f41": {
          "model_module": "@jupyter-widgets/base",
          "model_module_version": "1.2.0",
          "model_name": "LayoutModel",
          "state": {
            "_model_module": "@jupyter-widgets/base",
            "_model_module_version": "1.2.0",
            "_model_name": "LayoutModel",
            "_view_count": null,
            "_view_module": "@jupyter-widgets/base",
            "_view_module_version": "1.2.0",
            "_view_name": "LayoutView",
            "align_content": null,
            "align_items": null,
            "align_self": null,
            "border": null,
            "bottom": null,
            "display": null,
            "flex": null,
            "flex_flow": null,
            "grid_area": null,
            "grid_auto_columns": null,
            "grid_auto_flow": null,
            "grid_auto_rows": null,
            "grid_column": null,
            "grid_gap": null,
            "grid_row": null,
            "grid_template_areas": null,
            "grid_template_columns": null,
            "grid_template_rows": null,
            "height": null,
            "justify_content": null,
            "justify_items": null,
            "left": null,
            "margin": null,
            "max_height": null,
            "max_width": null,
            "min_height": null,
            "min_width": null,
            "object_fit": null,
            "object_position": null,
            "order": null,
            "overflow": null,
            "overflow_x": null,
            "overflow_y": null,
            "padding": null,
            "right": null,
            "top": null,
            "visibility": null,
            "width": null
          }
        },
        "5fe267f5df954bf9a8dbddc59b759338": {
          "model_module": "@jupyter-widgets/controls",
          "model_module_version": "1.5.0",
          "model_name": "DescriptionStyleModel",
          "state": {
            "_model_module": "@jupyter-widgets/controls",
            "_model_module_version": "1.5.0",
            "_model_name": "DescriptionStyleModel",
            "_view_count": null,
            "_view_module": "@jupyter-widgets/base",
            "_view_module_version": "1.2.0",
            "_view_name": "StyleView",
            "description_width": ""
          }
        },
        "61b7af8be8a84bc9a237e1957185a120": {
          "model_module": "@jupyter-widgets/controls",
          "model_module_version": "1.5.0",
          "model_name": "ProgressStyleModel",
          "state": {
            "_model_module": "@jupyter-widgets/controls",
            "_model_module_version": "1.5.0",
            "_model_name": "ProgressStyleModel",
            "_view_count": null,
            "_view_module": "@jupyter-widgets/base",
            "_view_module_version": "1.2.0",
            "_view_name": "StyleView",
            "bar_color": null,
            "description_width": ""
          }
        },
        "693de1714b294320b19312e696f2476f": {
          "model_module": "@jupyter-widgets/base",
          "model_module_version": "1.2.0",
          "model_name": "LayoutModel",
          "state": {
            "_model_module": "@jupyter-widgets/base",
            "_model_module_version": "1.2.0",
            "_model_name": "LayoutModel",
            "_view_count": null,
            "_view_module": "@jupyter-widgets/base",
            "_view_module_version": "1.2.0",
            "_view_name": "LayoutView",
            "align_content": null,
            "align_items": null,
            "align_self": null,
            "border": null,
            "bottom": null,
            "display": null,
            "flex": null,
            "flex_flow": null,
            "grid_area": null,
            "grid_auto_columns": null,
            "grid_auto_flow": null,
            "grid_auto_rows": null,
            "grid_column": null,
            "grid_gap": null,
            "grid_row": null,
            "grid_template_areas": null,
            "grid_template_columns": null,
            "grid_template_rows": null,
            "height": null,
            "justify_content": null,
            "justify_items": null,
            "left": null,
            "margin": null,
            "max_height": null,
            "max_width": null,
            "min_height": null,
            "min_width": null,
            "object_fit": null,
            "object_position": null,
            "order": null,
            "overflow": null,
            "overflow_x": null,
            "overflow_y": null,
            "padding": null,
            "right": null,
            "top": null,
            "visibility": null,
            "width": null
          }
        },
        "7cfe7e26c0614e29b3d08bffbb5e2dc6": {
          "model_module": "@jupyter-widgets/base",
          "model_module_version": "1.2.0",
          "model_name": "LayoutModel",
          "state": {
            "_model_module": "@jupyter-widgets/base",
            "_model_module_version": "1.2.0",
            "_model_name": "LayoutModel",
            "_view_count": null,
            "_view_module": "@jupyter-widgets/base",
            "_view_module_version": "1.2.0",
            "_view_name": "LayoutView",
            "align_content": null,
            "align_items": null,
            "align_self": null,
            "border": null,
            "bottom": null,
            "display": null,
            "flex": null,
            "flex_flow": null,
            "grid_area": null,
            "grid_auto_columns": null,
            "grid_auto_flow": null,
            "grid_auto_rows": null,
            "grid_column": null,
            "grid_gap": null,
            "grid_row": null,
            "grid_template_areas": null,
            "grid_template_columns": null,
            "grid_template_rows": null,
            "height": null,
            "justify_content": null,
            "justify_items": null,
            "left": null,
            "margin": null,
            "max_height": null,
            "max_width": null,
            "min_height": null,
            "min_width": null,
            "object_fit": null,
            "object_position": null,
            "order": null,
            "overflow": null,
            "overflow_x": null,
            "overflow_y": null,
            "padding": null,
            "right": null,
            "top": null,
            "visibility": null,
            "width": null
          }
        },
        "7d67dc3e8b6e49989bc524469c5e0c71": {
          "model_module": "@jupyter-widgets/controls",
          "model_module_version": "1.5.0",
          "model_name": "FloatProgressModel",
          "state": {
            "_dom_classes": [],
            "_model_module": "@jupyter-widgets/controls",
            "_model_module_version": "1.5.0",
            "_model_name": "FloatProgressModel",
            "_view_count": null,
            "_view_module": "@jupyter-widgets/controls",
            "_view_module_version": "1.5.0",
            "_view_name": "ProgressView",
            "bar_style": "success",
            "description": "",
            "description_tooltip": null,
            "layout": "IPY_MODEL_590d547955ee40f3af16029b9d845a96",
            "max": 7,
            "min": 0,
            "orientation": "horizontal",
            "style": "IPY_MODEL_61b7af8be8a84bc9a237e1957185a120",
            "value": 7
          }
        },
        "973e1fe523ff476ba8bcdbc465ccc594": {
          "model_module": "@jupyter-widgets/controls",
          "model_module_version": "1.5.0",
          "model_name": "HTMLModel",
          "state": {
            "_dom_classes": [],
            "_model_module": "@jupyter-widgets/controls",
            "_model_module_version": "1.5.0",
            "_model_name": "HTMLModel",
            "_view_count": null,
            "_view_module": "@jupyter-widgets/controls",
            "_view_module_version": "1.5.0",
            "_view_name": "HTMLView",
            "description": "",
            "description_tooltip": null,
            "layout": "IPY_MODEL_693de1714b294320b19312e696f2476f",
            "placeholder": "​",
            "style": "IPY_MODEL_eac36174374d425e9fa563c6badd6d2b",
            "value": "Loading pipeline components...: 100%"
          }
        },
        "a3308597db7c43698f11b2e03e403379": {
          "model_module": "@jupyter-widgets/controls",
          "model_module_version": "1.5.0",
          "model_name": "HTMLModel",
          "state": {
            "_dom_classes": [],
            "_model_module": "@jupyter-widgets/controls",
            "_model_module_version": "1.5.0",
            "_model_name": "HTMLModel",
            "_view_count": null,
            "_view_module": "@jupyter-widgets/controls",
            "_view_module_version": "1.5.0",
            "_view_name": "HTMLView",
            "description": "",
            "description_tooltip": null,
            "layout": "IPY_MODEL_0fc26ce9be554cb3ba9e6d9cbc6bfcae",
            "placeholder": "​",
            "style": "IPY_MODEL_43cf60dd65194d4e95b32f555578acc1",
            "value": " 7/7 [00:46&lt;00:00,  5.99s/it]"
          }
        },
        "a7193385ca7b44b6a8891169cb050838": {
          "model_module": "@jupyter-widgets/controls",
          "model_module_version": "1.5.0",
          "model_name": "FloatProgressModel",
          "state": {
            "_dom_classes": [],
            "_model_module": "@jupyter-widgets/controls",
            "_model_module_version": "1.5.0",
            "_model_name": "FloatProgressModel",
            "_view_count": null,
            "_view_module": "@jupyter-widgets/controls",
            "_view_module_version": "1.5.0",
            "_view_name": "ProgressView",
            "bar_style": "success",
            "description": "",
            "description_tooltip": null,
            "layout": "IPY_MODEL_498dea9b58c044f3bbc4f5226fc99fec",
            "max": 15,
            "min": 0,
            "orientation": "horizontal",
            "style": "IPY_MODEL_240c8d68dbea4be88a6b0202f3b7207d",
            "value": 15
          }
        },
        "d04f93514eff42fb997fb41ae091f79f": {
          "model_module": "@jupyter-widgets/controls",
          "model_module_version": "1.5.0",
          "model_name": "HTMLModel",
          "state": {
            "_dom_classes": [],
            "_model_module": "@jupyter-widgets/controls",
            "_model_module_version": "1.5.0",
            "_model_name": "HTMLModel",
            "_view_count": null,
            "_view_module": "@jupyter-widgets/controls",
            "_view_module_version": "1.5.0",
            "_view_name": "HTMLView",
            "description": "",
            "description_tooltip": null,
            "layout": "IPY_MODEL_5d73344c4df24b37a5cb018a009b1f41",
            "placeholder": "​",
            "style": "IPY_MODEL_5fe267f5df954bf9a8dbddc59b759338",
            "value": "100%"
          }
        },
        "e1d5044e99284a11a0a4fa7ad78792ac": {
          "model_module": "@jupyter-widgets/controls",
          "model_module_version": "1.5.0",
          "model_name": "HBoxModel",
          "state": {
            "_dom_classes": [],
            "_model_module": "@jupyter-widgets/controls",
            "_model_module_version": "1.5.0",
            "_model_name": "HBoxModel",
            "_view_count": null,
            "_view_module": "@jupyter-widgets/controls",
            "_view_module_version": "1.5.0",
            "_view_name": "HBoxView",
            "box_style": "",
            "children": [
              "IPY_MODEL_d04f93514eff42fb997fb41ae091f79f",
              "IPY_MODEL_a7193385ca7b44b6a8891169cb050838",
              "IPY_MODEL_4a1ce733ca8f48ffa96ece66ebbc1b03"
            ],
            "layout": "IPY_MODEL_233d70cbbfb1438284b0426576b855bd"
          }
        },
        "eac36174374d425e9fa563c6badd6d2b": {
          "model_module": "@jupyter-widgets/controls",
          "model_module_version": "1.5.0",
          "model_name": "DescriptionStyleModel",
          "state": {
            "_model_module": "@jupyter-widgets/controls",
            "_model_module_version": "1.5.0",
            "_model_name": "DescriptionStyleModel",
            "_view_count": null,
            "_view_module": "@jupyter-widgets/base",
            "_view_module_version": "1.2.0",
            "_view_name": "StyleView",
            "description_width": ""
          }
        },
        "f8055657b3a2439ba5100f0976194388": {
          "model_module": "@jupyter-widgets/controls",
          "model_module_version": "1.5.0",
          "model_name": "HBoxModel",
          "state": {
            "_dom_classes": [],
            "_model_module": "@jupyter-widgets/controls",
            "_model_module_version": "1.5.0",
            "_model_name": "HBoxModel",
            "_view_count": null,
            "_view_module": "@jupyter-widgets/controls",
            "_view_module_version": "1.5.0",
            "_view_name": "HBoxView",
            "box_style": "",
            "children": [
              "IPY_MODEL_973e1fe523ff476ba8bcdbc465ccc594",
              "IPY_MODEL_7d67dc3e8b6e49989bc524469c5e0c71",
              "IPY_MODEL_a3308597db7c43698f11b2e03e403379"
            ],
            "layout": "IPY_MODEL_7cfe7e26c0614e29b3d08bffbb5e2dc6"
          }
        },
        "f9d6e27abd4043ffaba17ae33412de8a": {
          "model_module": "@jupyter-widgets/controls",
          "model_module_version": "1.5.0",
          "model_name": "DescriptionStyleModel",
          "state": {
            "_model_module": "@jupyter-widgets/controls",
            "_model_module_version": "1.5.0",
            "_model_name": "DescriptionStyleModel",
            "_view_count": null,
            "_view_module": "@jupyter-widgets/base",
            "_view_module_version": "1.2.0",
            "_view_name": "StyleView",
            "description_width": ""
          }
        }
      }
    }
  },
  "nbformat": 4,
  "nbformat_minor": 0
}
