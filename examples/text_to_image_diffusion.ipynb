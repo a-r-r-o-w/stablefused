{
 "cells": [
  {
   "cell_type": "code",
   "execution_count": null,
   "metadata": {},
   "outputs": [],
   "source": [
    "!pip install git+https://github.com/a-r-r-o-w/stablefused ipython"
   ]
  },
  {
   "cell_type": "code",
   "execution_count": 5,
   "metadata": {},
   "outputs": [],
   "source": [
    "import numpy as np\n",
    "import torch\n",
    "\n",
    "from IPython.display import Video, display\n",
    "from stablefused import TextToImageDiffusion, TextToImageConfig\n",
    "from stablefused.utils import image_grid, pil_to_video"
   ]
  },
  {
   "cell_type": "code",
   "execution_count": null,
   "metadata": {},
   "outputs": [],
   "source": [
    "model_id = \"runwayml/stable-diffusion-v1-5\"\n",
    "# model_id = \"segmind/tiny-sd\"\n",
    "model = TextToImageDiffusion(\n",
    "    model_id=model_id, revision=\"fp16\", torch_dtype=torch.float16\n",
    ")"
   ]
  },
  {
   "cell_type": "code",
   "execution_count": 3,
   "metadata": {},
   "outputs": [],
   "source": [
    "model.set_scheduler(\"dpm_multistep\")"
   ]
  },
  {
   "cell_type": "code",
   "execution_count": 4,
   "metadata": {},
   "outputs": [],
   "source": [
    "prompt = \"Cyberpunk cityscape with towering skyscrapers, neon signs, and flying cars.\"\n",
    "negative_prompt = \"cartoon, unrealistic, blur, boring background, deformed, disfigured, low resolution, unattractive\"\n",
    "num_inference_steps = 20\n",
    "seed = 1337\n",
    "\n",
    "torch.manual_seed(seed)\n",
    "np.random.seed(seed)"
   ]
  },
  {
   "cell_type": "code",
   "execution_count": null,
   "metadata": {},
   "outputs": [],
   "source": [
    "config = TextToImageConfig(prompt=prompt, num_inference_steps=num_inference_steps)\n",
    "model(config)[0]"
   ]
  },
  {
   "cell_type": "code",
   "execution_count": 7,
   "metadata": {},
   "outputs": [],
   "source": [
    "prompt = [\n",
    "    \"Gothic painting of an ancient castle at night, with a full moon, gargoyles, and shadows\",\n",
    "    \"A lion in galaxies, spirals, nebulae, stars, smoke, iridescent, intricate detail, octane render, 8k\",\n",
    "    \"A close up image of an very beautiful woman, aesthetic, realistic, high quality\",\n",
    "    \"Concept art for a post-apocalyptic world with ruins, overgrown vegetation, and a lone survivor\",\n",
    "]"
   ]
  },
  {
   "cell_type": "code",
   "execution_count": 8,
   "metadata": {},
   "outputs": [],
   "source": [
    "model.enable_attention_slicing()\n",
    "model.enable_slicing()\n",
    "model.enable_tiling()"
   ]
  },
  {
   "cell_type": "code",
   "execution_count": null,
   "metadata": {},
   "outputs": [],
   "source": [
    "config = TextToImageConfig(\n",
    "    prompt=prompt,\n",
    "    negative_prompt=[negative_prompt] * len(prompt),\n",
    "    num_inference_steps=20,\n",
    "    guidance_scale=10.0,\n",
    "    return_latent_history=True,\n",
    ")\n",
    "images = model(config)"
   ]
  },
  {
   "cell_type": "code",
   "execution_count": 10,
   "metadata": {},
   "outputs": [],
   "source": [
    "timestep_images = []\n",
    "for imgs in zip(*images):\n",
    "    img = image_grid(imgs, rows=2, cols=len(prompt) // 2)\n",
    "    timestep_images.append(img)"
   ]
  },
  {
   "cell_type": "code",
   "execution_count": 11,
   "metadata": {},
   "outputs": [],
   "source": [
    "path = \"text_to_image_diffusion.mp4\"\n",
    "pil_to_video(timestep_images, path, fps=5)"
   ]
  },
  {
   "cell_type": "code",
   "execution_count": null,
   "metadata": {},
   "outputs": [],
   "source": [
    "display(Video(path, embed=True))"
   ]
  }
 ],
 "metadata": {
  "language_info": {
   "name": "python"
  }
 },
 "nbformat": 4,
 "nbformat_minor": 0
}
